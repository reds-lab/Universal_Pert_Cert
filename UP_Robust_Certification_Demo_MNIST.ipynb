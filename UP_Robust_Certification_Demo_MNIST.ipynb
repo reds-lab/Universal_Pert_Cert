{
 "cells": [
  {
   "cell_type": "code",
   "execution_count": 1,
   "id": "3df6ae53",
   "metadata": {},
   "outputs": [],
   "source": [
    "import torch\n",
    "import numpy as np\n",
    "import random\n",
    "\n",
    "device = 'cuda:0' if torch.cuda.is_available else 'cpu'"
   ]
  },
  {
   "cell_type": "code",
   "execution_count": 2,
   "id": "efedfbb1",
   "metadata": {},
   "outputs": [],
   "source": [
    "from auto_LiRPA import BoundedModule, PerturbationLpNorm, BoundedTensor\n",
    "from auto_LiRPA.utils import get_spec_matrix\n",
    "from cert_util import min_correct_with_eps, load_data, DeltaWrapper\n",
    "\n",
    "from model_defs import mnist_cnn_4layer,mnist_conv_small,mnist_conv_big"
   ]
  },
  {
   "cell_type": "code",
   "execution_count": 3,
   "id": "9c68df4b",
   "metadata": {},
   "outputs": [],
   "source": [
    "def bounded_results(eps,bounded_model):\n",
    "    ptb = PerturbationLpNorm(norm = np.inf, eps = eps)\n",
    "    bounded_delta = BoundedTensor(delta, ptb)\n",
    "\n",
    "    final_name = bounded_model.final_name\n",
    "    input_name = '/1' # '/input.1' \n",
    "\n",
    "    result = bounded_model.compute_bounds(\n",
    "        x=(new_image,bounded_delta), method='backward', C=C,\n",
    "        return_A=True, \n",
    "        needed_A_dict={ final_name: [input_name] },\n",
    "    )\n",
    "    lower, upper, A_dict = result\n",
    "    lA = A_dict[final_name][input_name]['lA']\n",
    "    uA = A_dict[final_name][input_name]['uA']\n",
    "\n",
    "    lb = lower - ptb.concretize(delta, lA, sign=-1)\n",
    "    ub = upper - ptb.concretize(delta, uA, sign=1)\n",
    "\n",
    "\n",
    "    lA = torch.reshape(lA,(eval_num, num_cls-1,-1))\n",
    "    return lA,lb,lower"
   ]
  },
  {
   "cell_type": "markdown",
   "id": "e49f3324",
   "metadata": {},
   "source": [
    "### Reproducibility"
   ]
  },
  {
   "cell_type": "code",
   "execution_count": 4,
   "id": "2851b31e",
   "metadata": {},
   "outputs": [],
   "source": [
    "my_seed = 1\n",
    "torch.cuda.empty_cache()\n",
    "torch.manual_seed(my_seed)\n",
    "random.seed(my_seed)\n",
    "np.random.seed(my_seed)"
   ]
  },
  {
   "cell_type": "markdown",
   "id": "278de414",
   "metadata": {},
   "source": [
    "### Hyperparameters "
   ]
  },
  {
   "cell_type": "code",
   "execution_count": 5,
   "id": "59e0ce74",
   "metadata": {},
   "outputs": [],
   "source": [
    "eval_num = 100\n",
    "num_cls = 10\n",
    "adv_e = 8\n",
    "\n",
    "# MNIST models, one can choose from 'mnist_conv_small', 'mnist_cnn_4layer', 'mnist_conv_big'\n",
    "model_name = \"mnist_conv_small\" "
   ]
  },
  {
   "cell_type": "markdown",
   "id": "97628c8a",
   "metadata": {},
   "source": [
    "### Loadding the model for certification"
   ]
  },
  {
   "cell_type": "code",
   "execution_count": 6,
   "id": "5afbddb5",
   "metadata": {},
   "outputs": [
    {
     "data": {
      "text/plain": [
       "<All keys matched successfully>"
      ]
     },
     "execution_count": 6,
     "metadata": {},
     "output_type": "execute_result"
    }
   ],
   "source": [
    "net = eval(model_name)()\n",
    "net.load_state_dict(torch.load('./model_weights/'+model_name+'.pth'))"
   ]
  },
  {
   "cell_type": "markdown",
   "id": "8bd09d00",
   "metadata": {},
   "source": [
    "### Loading a batch of data"
   ]
  },
  {
   "cell_type": "code",
   "execution_count": 7,
   "id": "ef02374b",
   "metadata": {},
   "outputs": [],
   "source": [
    "new_image, new_label = load_data(num_imgs=eval_num, random=True, dataset='MNIST')\n",
    "new_image = new_image.to(device)\n",
    "C = get_spec_matrix(new_image,new_label.long(),10)"
   ]
  },
  {
   "cell_type": "markdown",
   "id": "b77df20d",
   "metadata": {},
   "source": [
    "### Model concretization"
   ]
  },
  {
   "cell_type": "code",
   "execution_count": 8,
   "id": "6694ebc2",
   "metadata": {},
   "outputs": [],
   "source": [
    "eps = adv_e/255\n",
    "delta = torch.zeros_like(new_image[0]).unsqueeze(0)\n",
    "dummy_input = (new_image, delta)\n",
    "model = DeltaWrapper(net.to(device))\n",
    "bounded_model = BoundedModule(model, dummy_input)\n",
    "bounded_model.eval()\n",
    "final_name = bounded_model.final_name"
   ]
  },
  {
   "cell_type": "markdown",
   "id": "f9c57f48",
   "metadata": {},
   "source": [
    "### Results and comparision "
   ]
  },
  {
   "cell_type": "code",
   "execution_count": 9,
   "id": "a47052ba",
   "metadata": {},
   "outputs": [
    {
     "name": "stdout",
     "output_type": "stream",
     "text": [
      "Eps: 8\n",
      "Samp-wise Cert-ACC: 50%\n",
      "Set parameter Username\n",
      "Academic license - for non-commercial use only - expires 2023-05-24\n",
      "Set parameter TimeLimit to value 600\n",
      "UP-based Cert-ACC: 66.0%\n"
     ]
    }
   ],
   "source": [
    "print('Eps:', adv_e)\n",
    "\n",
    "alpha,beta,result = bounded_results(eps,bounded_model)\n",
    "samp_ACC = torch.sum(result.detach().cpu().min(axis=1)[0] > 0).numpy()\n",
    "print('Samp-wise Cert-ACC: {}%'.format(samp_ACC))\n",
    "\n",
    "label = new_label\n",
    "number_class = num_cls\n",
    "cert_ACC, delta = min_correct_with_eps(alpha, beta, eps, label, number_class=10, verbose=False)\n",
    "print('UP-based Cert-ACC: {}%'.format(cert_ACC))"
   ]
  },
  {
   "cell_type": "code",
   "execution_count": null,
   "id": "6ef7b839",
   "metadata": {},
   "outputs": [],
   "source": []
  }
 ],
 "metadata": {
  "kernelspec": {
   "display_name": "Python 3 (ipykernel)",
   "language": "python",
   "name": "python3"
  },
  "language_info": {
   "codemirror_mode": {
    "name": "ipython",
    "version": 3
   },
   "file_extension": ".py",
   "mimetype": "text/x-python",
   "name": "python",
   "nbconvert_exporter": "python",
   "pygments_lexer": "ipython3",
   "version": "3.9.6"
  }
 },
 "nbformat": 4,
 "nbformat_minor": 5
}
